{
 "cells": [
  {
   "cell_type": "markdown",
   "metadata": {},
   "source": [
    "This exercise will require you to pull some data from the Qunadl API. Qaundl is currently the most widely used aggregator of financial market data."
   ]
  },
  {
   "cell_type": "markdown",
   "metadata": {},
   "source": [
    "As a first step, you will need to register a free account on the http://www.quandl.com website."
   ]
  },
  {
   "cell_type": "markdown",
   "metadata": {},
   "source": [
    "After you register, you will be provided with a unique API key, that you should store:"
   ]
  },
  {
   "cell_type": "code",
   "execution_count": 165,
   "metadata": {},
   "outputs": [],
   "source": [
    "# Store the API key as a string - according to PEP8, constants are always named in all upper case\n",
    "API_KEY = 'T2LEhAwodWVRuTnFrM-X'"
   ]
  },
  {
   "cell_type": "markdown",
   "metadata": {},
   "source": [
    "Qaundl has a large number of data sources, but, unfortunately, most of them require a Premium subscription. Still, there are also a good number of free datasets."
   ]
  },
  {
   "cell_type": "markdown",
   "metadata": {},
   "source": [
    "For this mini project, we will focus on equities data from the Frankfurt Stock Exhange (FSE), which is available for free. We'll try and analyze the stock prices of a company called Carl Zeiss Meditec, which manufactures tools for eye examinations, as well as medical lasers for laser eye surgery: https://www.zeiss.com/meditec/int/home.html. The company is listed under the stock ticker AFX_X."
   ]
  },
  {
   "cell_type": "markdown",
   "metadata": {},
   "source": [
    "You can find the detailed Quandl API instructions here: https://docs.quandl.com/docs/time-series"
   ]
  },
  {
   "cell_type": "markdown",
   "metadata": {},
   "source": [
    "While there is a dedicated Python package for connecting to the Quandl API, we would prefer that you use the *requests* package, which can be easily downloaded using *pip* or *conda*. You can find the documentation for the package here: http://docs.python-requests.org/en/master/ "
   ]
  },
  {
   "cell_type": "markdown",
   "metadata": {},
   "source": [
    "Finally, apart from the *requests* package, you are encouraged to not use any third party Python packages, such as *pandas*, and instead focus on what's available in the Python Standard Library (the *collections* module might come in handy: https://pymotw.com/3/collections/ ).\n",
    "Also, since you won't have access to DataFrames, you are encouraged to us Python's native data structures - preferably dictionaries, though some questions can also be answered using lists.\n",
    "You can read more on these data structures here: https://docs.python.org/3/tutorial/datastructures.html"
   ]
  },
  {
   "cell_type": "markdown",
   "metadata": {},
   "source": [
    "Keep in mind that the JSON responses you will be getting from the API map almost one-to-one to Python's dictionaries. Unfortunately, they can be very nested, so make sure you read up on indexing dictionaries in the documentation provided above."
   ]
  },
  {
   "cell_type": "code",
   "execution_count": 166,
   "metadata": {},
   "outputs": [],
   "source": [
    "# First, import the relevant modules\n",
    "import requests\n",
    "import json\n",
    "import collections\n"
   ]
  },
  {
   "cell_type": "code",
   "execution_count": 167,
   "metadata": {},
   "outputs": [
    {
     "name": "stdout",
     "output_type": "stream",
     "text": [
      "{\"dataset_data\":{\"limit\":null,\"transform\":null,\"column_index\":null,\"column_names\":[\"Date\",\"Open\",\"High\",\"Low\",\"Close\",\"Volume\",\"Ex-Dividend\",\"Split Ratio\",\"Adj. Open\",\"Adj. High\",\"Adj. Low\",\"Adj. Close\",\"Adj. Volume\"],\"start_date\":\"2018-02-03\",\"end_date\":\"2018-02-09\",\"frequency\":\"daily\",\"data\":[[\"2018-02-09\",174.76,176.9,167.18,175.98,37214470.0,0.0,1.0,174.76,176.9,167.18,175.98,37214470.0],[\"2018-02-08\",181.01,181.84,171.4815,171.5499,35672214.0,0.0,1.0,181.01,181.84,171.4815,171.5499,35672214.0],[\"2018-02-07\",184.15,185.0817,179.95,180.18,26891282.0,0.0,1.0,184.15,185.0817,179.95,180.18,26891282.0],[\"2018-02-06\",178.57,185.77,177.74,185.31,36829710.0,0.0,1.0,178.57,185.77,177.74,185.31,36829710.0],[\"2018-02-05\",186.93,190.61,180.61,182.65,29852293.0,0.0,1.0,186.93,190.61,180.61,182.65,29852293.0]],\"collapse\":null,\"order\":null}}\n"
     ]
    }
   ],
   "source": [
    "# Now, call the Quandl API and pull out a small sample of the data (only one day) to get a glimpse\n",
    "# into the JSON structure that will be returned\n",
    "\n",
    "api_key = 'YsTmCQTzss-3D-zwRwTV'\n",
    "url = \"https://www.quandl.com/api/v3/datasets/WIKI/FB/data.json\"\n",
    "\n",
    "# decided to get more then one day of day\n",
    "params = dict(api_key ='YsTmCQTzss-3D-zwRwTV', dataset_code ='AFX_X', start_date = '2018-02-03', end_date = '2018-02-09')\n",
    "res = requests.get(url, params = params)\n",
    "\n",
    "print(res.text)"
   ]
  },
  {
   "cell_type": "code",
   "execution_count": 236,
   "metadata": {},
   "outputs": [
    {
     "data": {
      "text/plain": [
       "dict"
      ]
     },
     "execution_count": 236,
     "metadata": {},
     "output_type": "execute_result"
    }
   ],
   "source": [
    "# Inspect the JSON structure of the object you created, and take note of how nested it is,\n",
    "# as well as the overall structure\n",
    "rdict = res.json()\n",
    "type(rdict)"
   ]
  },
  {
   "cell_type": "markdown",
   "metadata": {},
   "source": [
    "These are your tasks for this mini project:\n",
    "\n",
    "1. Collect data from the Franfurt Stock Exchange, for the ticker AFX_X, for the whole year 2017 (keep in mind that the date format is YYYY-MM-DD).\n",
    "2. Convert the returned JSON object into a Python dictionary.\n",
    "3. Calculate what the highest and lowest opening prices were for the stock in this period.\n",
    "4. What was the largest change in any one day (based on High and Low price)?\n",
    "5. What was the largest change between any two days (based on Closing Price)?\n",
    "6. What was the average daily trading volume during this year?\n",
    "7. (Optional) What was the median trading volume during this year. (Note: you may need to implement your own function for calculating the median.)"
   ]
  },
  {
   "cell_type": "markdown",
   "metadata": {
    "collapsed": true
   },
   "source": [
    "### Task  1\n",
    "\n",
    "Collect data from the Franfurt Stock Exchange, for the ticker AFX_X, for the whole year 2017 (keep in mind that the date format is YYYY-MM-DD)."
   ]
  },
  {
   "cell_type": "code",
   "execution_count": 169,
   "metadata": {},
   "outputs": [],
   "source": [
    "# invoke the Quandl API \n",
    "api_key = 'YsTmCQTzss-3D-zwRwTV'\n",
    "url = \"https://www.quandl.com/api/v3/datasets/WIKI/FB/data.json\"\n",
    "params = dict(api_key ='YsTmCQTzss-3D-zwRwTV', dataset_code ='AFX_X', start_date = '2017-01-01', end_date = '2017-12-31')\n",
    "res = requests.get(url, params = params)"
   ]
  },
  {
   "cell_type": "markdown",
   "metadata": {},
   "source": [
    "### Task 2\n",
    "\n",
    "Convert the returned JSON object into a Python dictionary."
   ]
  },
  {
   "cell_type": "code",
   "execution_count": 252,
   "metadata": {
    "scrolled": false
   },
   "outputs": [
    {
     "data": {
      "text/plain": [
       "dict"
      ]
     },
     "execution_count": 252,
     "metadata": {},
     "output_type": "execute_result"
    }
   ],
   "source": [
    "rdict = res.json()\n",
    "type(rdict)"
   ]
  },
  {
   "cell_type": "markdown",
   "metadata": {},
   "source": [
    "### Task 3\n",
    "\n",
    "Calculate what the highest and lowest opening prices were for the stock in this period."
   ]
  },
  {
   "cell_type": "code",
   "execution_count": 253,
   "metadata": {},
   "outputs": [],
   "source": [
    "def get_highest_lowest(x):\n",
    "    \"\"\"Function will calculate the highest and lowest \n",
    "    opening prices were for the stock in this period.\n",
    "    \"\"\"  \n",
    "    \n",
    "    x_copy = x.copy()\n",
    "    list_open_price = []\n",
    "    for i in x_copy['dataset_data']['data']:\n",
    "        open_price = i[1]\n",
    "        list_open_price.append(open_price)    \n",
    "    max_min = {}\n",
    "    max_min['Highest Opening Price'] = max(list_open_price)\n",
    "    max_min['Lowest Opening Price'] = min(list_open_price)\n",
    "        \n",
    "    return max_min"
   ]
  },
  {
   "cell_type": "code",
   "execution_count": 254,
   "metadata": {},
   "outputs": [
    {
     "data": {
      "text/plain": [
       "{'Highest Opening Price': 183.51, 'Lowest Opening Price': 116.03}"
      ]
     },
     "execution_count": 254,
     "metadata": {},
     "output_type": "execute_result"
    }
   ],
   "source": [
    "# get highest and lowest stock price for given period (2017)\n",
    "highest_lowest = get_highest_lowest(rdict)\n",
    "highest_lowest"
   ]
  },
  {
   "cell_type": "markdown",
   "metadata": {},
   "source": [
    "### Task 4\n",
    "\n",
    "What was the largest change in any one day (based on High and Low price)?"
   ]
  },
  {
   "cell_type": "code",
   "execution_count": 255,
   "metadata": {},
   "outputs": [],
   "source": [
    "def calc_largest_change(x):\n",
    "    \"\"\"Function will calculate the largest change\n",
    "    in any one day (based on High and Low price).\n",
    "    \"\"\"  \n",
    "    \n",
    "    x_copy = x.copy()\n",
    "    change_price = []\n",
    "    for i in x_copy['dataset_data']['data']:\n",
    "        high = i[2]\n",
    "        low = i[3]\n",
    "        change = high - low\n",
    "        change_price.append(change)\n",
    "    largest_change = max(change_price)\n",
    "    return round(largest_change,3)"
   ]
  },
  {
   "cell_type": "code",
   "execution_count": 256,
   "metadata": {},
   "outputs": [
    {
     "name": "stdout",
     "output_type": "stream",
     "text": [
      "Largest change in opening stock price for any given day: 8.98\n"
     ]
    }
   ],
   "source": [
    "# pass stock price data int function that will calculate largest changes between High and Low stock prices\n",
    "largest_change = calc_largest_change(rdict)\n",
    "print('Largest change in opening stock price for any given day:', largest_change)"
   ]
  },
  {
   "cell_type": "markdown",
   "metadata": {},
   "source": [
    "### Task 5\n",
    "\n",
    "What was the largest change between any two days (based on Closing Price)?"
   ]
  },
  {
   "cell_type": "code",
   "execution_count": 257,
   "metadata": {},
   "outputs": [],
   "source": [
    "def get_closing_price(x):\n",
    "    \"\"\"Function will calculate the largest \n",
    "    change between any two days (based on Closing Price).\n",
    "    \"\"\"  \n",
    "    \n",
    "    x_copy = x.copy()\n",
    "    two_days= []\n",
    "    prev_day = 0\n",
    "    for i in x_copy['dataset_data']['data']:  \n",
    "        if prev_day == 0:\n",
    "            prev_day = i[4]\n",
    "        else:\n",
    "            two_days.append(prev_day - i[4])\n",
    "            prev_day = i[4]\n",
    "    \n",
    "    max_closing_price = max(two_days)\n",
    "    min_closing_price = min(two_days)\n",
    "    \n",
    "    largest_closing_change = 0\n",
    "    \n",
    "    if abs(min_closing_price) > max_closing_price:\n",
    "        largest_closing_change = abs(min_closing_price)\n",
    "    else:\n",
    "        largest_closing_change = max_closing_price\n",
    "    \n",
    "    return print('The following is the largest change in closing price between any two days:', round(largest_closing_change,3))"
   ]
  },
  {
   "cell_type": "code",
   "execution_count": 258,
   "metadata": {},
   "outputs": [
    {
     "name": "stdout",
     "output_type": "stream",
     "text": [
      "The following is the largest change in closing price between any two days: 7.67\n"
     ]
    }
   ],
   "source": [
    "# use funciton to get largest change in any one day \n",
    "largest_change_closing_prices = get_closing_price(rdict)\n",
    "largest_change_closing_prices "
   ]
  },
  {
   "cell_type": "markdown",
   "metadata": {},
   "source": [
    "### Task 6\n",
    "What was the average daily trading volume during this year?"
   ]
  },
  {
   "cell_type": "code",
   "execution_count": 259,
   "metadata": {},
   "outputs": [],
   "source": [
    "def get_avg_vol(x):\n",
    "    \"\"\"Function will calculate the \n",
    "    average daily trading volume during this year\n",
    "    \"\"\"  \n",
    "    \n",
    "    x_copy = x.copy()\n",
    "    list_vol = []\n",
    "    for i in x_copy['dataset_data']['data']:\n",
    "        vol = i[5]\n",
    "        list_vol.append(vol)\n",
    "    avg_vol = sum(list_vol)/len(list_vol)\n",
    "    return print('The folloing is the average trading volume for 2017:', round(avg_vol,3))\n",
    "    "
   ]
  },
  {
   "cell_type": "code",
   "execution_count": 260,
   "metadata": {},
   "outputs": [
    {
     "name": "stdout",
     "output_type": "stream",
     "text": [
      "The folloing is the average trading volume for 2017: 16468073.856\n"
     ]
    }
   ],
   "source": [
    "# get average daily trading volume for the period\n",
    "avg_volume = get_avg_vol(rdict)\n",
    "avg_volume"
   ]
  },
  {
   "cell_type": "markdown",
   "metadata": {},
   "source": [
    "### Task 7\n",
    "\n",
    "(Optional) What was the median trading volume during this year. (Note: you may need to implement your own function for calculating the median.)"
   ]
  },
  {
   "cell_type": "code",
   "execution_count": 250,
   "metadata": {},
   "outputs": [],
   "source": [
    "def get_median_vol(x):\n",
    "    \"\"\"Function will calculate the \n",
    "    median daily trading volume during this year\n",
    "    \"\"\"      \n",
    "    x_copy = x.copy()\n",
    "    list_vol = []\n",
    "    for i in x_copy['dataset_data']['data']:\n",
    "        vol = i[5]\n",
    "        list_vol.append(vol)\n",
    "      \n",
    "    cnt_vol = len(list_vol)        \n",
    "    list_vol.sort()  \n",
    "    if cnt_vol % 2 == 0:\n",
    "        median1 = list_vol[cnt_vol//2] \n",
    "        median2 = list_vol[cnt_vol//2 - 1] \n",
    "        median = (median1 + median2)/2\n",
    "    else: \n",
    "        median = list_vol[cnt_vol//2] \n",
    "    \n",
    "    return print('The following is the median trading volume for 2017:',round(median,3))   "
   ]
  },
  {
   "cell_type": "code",
   "execution_count": 261,
   "metadata": {},
   "outputs": [
    {
     "name": "stdout",
     "output_type": "stream",
     "text": [
      "The following is the median trading volume for 2017: 14548954.0\n"
     ]
    }
   ],
   "source": [
    "# get median daily trading volumne for the period\n",
    "median_volume = get_median_vol(rdict)\n",
    "median_volume"
   ]
  },
  {
   "cell_type": "code",
   "execution_count": null,
   "metadata": {},
   "outputs": [],
   "source": []
  },
  {
   "cell_type": "code",
   "execution_count": null,
   "metadata": {},
   "outputs": [],
   "source": []
  }
 ],
 "metadata": {
  "kernelspec": {
   "display_name": "Python 3",
   "language": "python",
   "name": "python3"
  },
  "language_info": {
   "codemirror_mode": {
    "name": "ipython",
    "version": 3
   },
   "file_extension": ".py",
   "mimetype": "text/x-python",
   "name": "python",
   "nbconvert_exporter": "python",
   "pygments_lexer": "ipython3",
   "version": "3.7.0"
  }
 },
 "nbformat": 4,
 "nbformat_minor": 2
}
